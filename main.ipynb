{
 "cells": [
  {
   "cell_type": "code",
   "execution_count": 1,
   "id": "34e02ca7",
   "metadata": {},
   "outputs": [],
   "source": [
    "import requests"
   ]
  },
  {
   "cell_type": "code",
   "execution_count": 9,
   "id": "45b65929",
   "metadata": {},
   "outputs": [
    {
     "data": {
      "text/plain": [
       "{'statusCode': 200,\n",
       " 'body': '[1, 0, 1, 0, 0, 0, 0, 1, 0, 1, 0, 0, 1, 0, 0, 1, 1, 0, 0, 0]'}"
      ]
     },
     "execution_count": 9,
     "metadata": {},
     "output_type": "execute_result"
    }
   ],
   "source": [
    "url = \"https://24zl01u3ff.execute-api.us-west-1.amazonaws.com/beta\"\n",
    "r = requests.get(url)\n",
    "content = r.json()\n",
    "content"
   ]
  },
  {
   "cell_type": "code",
   "execution_count": 17,
   "id": "a459cc58",
   "metadata": {},
   "outputs": [],
   "source": [
    "coins = ((content['body'].lstrip('[')).rstrip(']')).split(', ')\n",
    "coins = [int(x) for x in coins]"
   ]
  },
  {
   "cell_type": "code",
   "execution_count": 18,
   "id": "bb724dfa",
   "metadata": {},
   "outputs": [
    {
     "data": {
      "text/plain": [
       "[1, 0, 1, 0, 0, 0, 0, 1, 0, 1, 0, 0, 1, 0, 0, 1, 1, 0, 0, 0]"
      ]
     },
     "execution_count": 18,
     "metadata": {},
     "output_type": "execute_result"
    }
   ],
   "source": [
    "coins"
   ]
  },
  {
   "cell_type": "code",
   "execution_count": 21,
   "id": "f3e108bb",
   "metadata": {},
   "outputs": [],
   "source": [
    "def get_coins(nums):\n",
    "    coins = []\n",
    "    url = \"https://24zl01u3ff.execute-api.us-west-1.amazonaws.com/beta\"\n",
    "    for i in range(nums):\n",
    "        r = requests.get(url)\n",
    "        content = r.json()\n",
    "        coin = ((content['body'].lstrip('[')).rstrip(']')).split(', ')\n",
    "        coin = [int(x) for x in coin]\n",
    "        coins.append(coin)\n",
    "    return coins"
   ]
  },
  {
   "cell_type": "code",
   "execution_count": 29,
   "id": "d2e52e31",
   "metadata": {},
   "outputs": [],
   "source": [
    "import numpy as np\n",
    "from scipy import stats\n",
    "def EM(observations, theta_a, theta_b):\n",
    "    \"\"\"\n",
    "    params:\n",
    "    counts[0-3]: ah, at, bh, bt\n",
    "    \"\"\"\n",
    "    counts = np.zeros(4)\n",
    "    for observation in observations:\n",
    "        num_heads = observation.sum()\n",
    "        num_tails = len(observation)-num_heads\n",
    "        # e-step\n",
    "        #estimate hidden variable z\n",
    "        z_a = stats.binom.pmf(num_heads, len(observation), theta_a)\n",
    "        z_b = stats.binom.pmf(num_heads, len(observation), theta_b)\n",
    "    \n",
    "        z_a /= (z_a+z_b)\n",
    "        z_b /= (z_a+z_b)\n",
    "        #compute the expectation\n",
    "        counts[0]+=z_a*num_heads\n",
    "        counts[1]+=z_a*num_tails\n",
    "        counts[2]+=z_b*num_heads\n",
    "        counts[3]+=z_b*num_tails\n",
    "    \n",
    "    # m-step\n",
    "    new_theta_a = counts[0]/(counts[0]+counts[1])\n",
    "    new_theta_b = counts[2]/(counts[2]+counts[3])\n",
    "    return new_theta_a, new_theta_b"
   ]
  },
  {
   "cell_type": "code",
   "execution_count": 23,
   "id": "0b8aceb3",
   "metadata": {},
   "outputs": [],
   "source": [
    "\n",
    "nums = 30\n",
    "coins = np.array(get_coins(nums))"
   ]
  },
  {
   "cell_type": "code",
   "execution_count": 34,
   "id": "ab2e9253",
   "metadata": {},
   "outputs": [],
   "source": [
    "#random initialization\n",
    "theta_a = np.random.rand(1)\n",
    "theta_b = np.random.rand(1)"
   ]
  },
  {
   "cell_type": "code",
   "execution_count": 36,
   "id": "7a6f9413",
   "metadata": {},
   "outputs": [
    {
     "name": "stdout",
     "output_type": "stream",
     "text": [
      "iterations:5\n",
      "theta_a:0.27500376166185414, theta_b:0.7266051208630255\n"
     ]
    }
   ],
   "source": [
    "threshold = 1e-9\n",
    "max_iterations = 1000\n",
    "for iteration in range(max_iterations):\n",
    "    new_theta_a, new_theta_b = EM(coins, theta_a, theta_b)\n",
    "    if abs(new_theta_a-theta_a)<threshold and abs(new_theta_b-theta_b)<threshold:\n",
    "        print(f'iterations:{iteration}')\n",
    "        break\n",
    "    else:\n",
    "        theta_a = new_theta_a\n",
    "        theta_b = new_theta_b\n",
    "print(f'theta_a:{new_theta_a}, theta_b:{new_theta_b}')"
   ]
  }
 ],
 "metadata": {
  "kernelspec": {
   "display_name": "Python 3 (ipykernel)",
   "language": "python",
   "name": "python3"
  },
  "language_info": {
   "codemirror_mode": {
    "name": "ipython",
    "version": 3
   },
   "file_extension": ".py",
   "mimetype": "text/x-python",
   "name": "python",
   "nbconvert_exporter": "python",
   "pygments_lexer": "ipython3",
   "version": "3.8.5"
  }
 },
 "nbformat": 4,
 "nbformat_minor": 5
}
